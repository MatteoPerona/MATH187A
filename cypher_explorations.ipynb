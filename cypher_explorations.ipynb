{
 "cells": [
  {
   "cell_type": "code",
   "execution_count": 4,
   "metadata": {},
   "outputs": [],
   "source": [
    "import numpy as np \n",
    "import math\n",
    "\n",
    "LETTERS = {c: i for i, c in enumerate('abcdefghijklmnopqrstuvwxyz')} \n",
    "NUMBERS = {i: c for i, c in enumerate('abcdefghijklmnopqrstuvwxyz')} "
   ]
  },
  {
   "attachments": {},
   "cell_type": "markdown",
   "metadata": {},
   "source": [
    "# Vignére Cypher"
   ]
  },
  {
   "cell_type": "code",
   "execution_count": 5,
   "metadata": {},
   "outputs": [],
   "source": [
    "def vignére_cypher(phrase, kwd, encrypt=True):\n",
    "    # Format and encode the phrase (or cypher if decrypting)\n",
    "    encoded = phrase.lower().replace(' ', '')\n",
    "    encoded = np.array([LETTERS[c] for c in encoded])\n",
    "\n",
    "    # Encode the key word and repeat it until same length as the phrase\n",
    "    kwd = kwd * math.ceil(len(encoded) / len(kwd))\n",
    "    kwd = np.array([LETTERS[c] for c in kwd])[0:encoded.shape[0]+1]\n",
    "\n",
    "    # Generate the cypher/decrypt it \n",
    "    cypher = [(a + b) % 26 for a, b in zip(encoded, kwd)] if encrypt \\\n",
    "        else [(a - b) % 26 for a, b in zip(encoded, kwd)]\n",
    "\n",
    "    # Convert back to letters\n",
    "    cypher_text = ''.join([NUMBERS[c] for c in cypher])\n",
    "\n",
    "    return cypher_text"
   ]
  },
  {
   "cell_type": "code",
   "execution_count": 12,
   "metadata": {},
   "outputs": [
    {
     "name": "stdout",
     "output_type": "stream",
     "text": [
      "kwkpcrkagwrb\n",
      "keeplokiaway\n"
     ]
    }
   ],
   "source": [
    "ex1 = vignére_cypher('Keep Loki Away', 'asgard')\n",
    "print(ex1)\n",
    "ex2 = vignére_cypher(ex1, 'asgard', False)\n",
    "print(ex2)"
   ]
  },
  {
   "cell_type": "code",
   "execution_count": null,
   "metadata": {},
   "outputs": [],
   "source": []
  }
 ],
 "metadata": {
  "kernelspec": {
   "display_name": "base",
   "language": "python",
   "name": "python3"
  },
  "language_info": {
   "codemirror_mode": {
    "name": "ipython",
    "version": 3
   },
   "file_extension": ".py",
   "mimetype": "text/x-python",
   "name": "python",
   "nbconvert_exporter": "python",
   "pygments_lexer": "ipython3",
   "version": "3.9.13"
  },
  "orig_nbformat": 4,
  "vscode": {
   "interpreter": {
    "hash": "ff12dd1d8f48a86eddef711a749d9b6d2f3cc74d8c80b1e00ec129687673f4d9"
   }
  }
 },
 "nbformat": 4,
 "nbformat_minor": 2
}
